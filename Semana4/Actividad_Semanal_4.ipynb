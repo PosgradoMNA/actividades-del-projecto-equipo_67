{
  "nbformat": 4,
  "nbformat_minor": 0,
  "metadata": {
    "colab": {
      "provenance": [],
      "authorship_tag": "ABX9TyPpbBkneW+6XVGEyuXrnevT",
      "include_colab_link": true
    },
    "kernelspec": {
      "name": "python3",
      "display_name": "Python 3"
    },
    "language_info": {
      "name": "python"
    }
  },
  "cells": [
    {
      "cell_type": "markdown",
      "metadata": {
        "id": "view-in-github",
        "colab_type": "text"
      },
      "source": [
        "<a href=\"https://colab.research.google.com/github/PosgradoMNA/actividades-del-projecto-equipo_67/blob/main/Semana4/Actividad_Semanal_4.ipynb\" target=\"_parent\"><img src=\"https://colab.research.google.com/assets/colab-badge.svg\" alt=\"Open In Colab\"/></a>"
      ]
    },
    {
      "cell_type": "markdown",
      "source": [
        "#ACTIVIDAD  SEMANA 4\n",
        "\n",
        "#Ciencia y analítica de datos\n",
        "\n",
        "##Profesor:\n",
        "Jobish Vallikavungal Devassia\n",
        "\n",
        "##Participantes:\n",
        "A01793810 - Jerson David Pérez Contreras\n",
        "\n",
        "##Fecha:\n",
        "\n",
        "11 de octubre del 2022"
      ],
      "metadata": {
        "id": "qr2_5OtLt5Hf"
      }
    }
  ]
}