{
 "cells": [
  {
   "cell_type": "markdown",
   "metadata": {},
   "source": [
    "## Nombre que caracteriza el grupo de datos\n",
    "\n",
    "### Employees Earnings\n",
    "\n",
    "## Organización que lo generó\n",
    "\n",
    "### Mukesh Manral - ex Data Scientist at CloudyML\n",
    "\n",
    "## Enlace de internet donde se puede descargar\n",
    "\n",
    "https://www.kaggle.com/code/mukeshmanral/employees-earnings/data\n",
    "\n",
    "## Describa el conjunto de datos\n",
    "\n",
    "Nuestro conjunto de datos cuenta con 8 tipos de variables (5 categóricas y 3 numéricas). \n",
    "\n",
    "Tamaño total en memoria: 61.0 mb.\n",
    "\n",
    "\n",
    "| variable            |             |\n",
    "|---------------------|-------------|\n",
    "| companyId           | Categorical |\n",
    "| jobType             | Categorical |\n",
    "| degree              | Categorical |\n",
    "| major               | Categorical |\n",
    "| industry            | Categorical |\n",
    "| yearsExperience     | Real number |\n",
    "| milesFromMetropolis | Real number |\n",
    "| salary              | Real number |\n",
    "\n",
    "## Preguntas de investigación\n",
    "\n",
    "1. ¿Cuál es el promedio y desviación de salario por formación y industria? \n",
    "2. ¿A mayor experiencia las personas tienen un mayor salario?\n",
    "3. ¿A un grado mayor de formación las personas tienen un mayor salario?\n",
    "4. ¿Hay relación entre los años de experiencia y su formación para tener un mejor salario?\n",
    "5. ¿Existe una discriminación en el salario con respecto a la industria?\n",
    "6. ¿Qué variables de la data me pueden estimar o inferir en el salario?\n",
    "7. ¿Cuál es la combinación de datos que cuenta con los salarios más altos?\n",
    "8. ¿Son los años de experiencia realmente influyentes en el salario?\n",
    "\n",
    "## ¿Qué actor estaría interesado en las preguntas mencionadas que identificó?\n",
    "\n",
    "Tanto altos ejecutivos, como personal de reclutamiento y los mismos profesionistas. Un estudio sobre los salarios es algo de interes para todos."
   ]
  }
 ],
 "metadata": {
  "kernelspec": {
   "display_name": "Python 3.10.6 64-bit",
   "language": "python",
   "name": "python3"
  },
  "language_info": {
   "codemirror_mode": {
    "name": "ipython",
    "version": 3
   },
   "file_extension": ".py",
   "mimetype": "text/x-python",
   "name": "python",
   "nbconvert_exporter": "python",
   "pygments_lexer": "ipython3",
   "version": "3.10.6"
  },
  "orig_nbformat": 4,
  "vscode": {
   "interpreter": {
    "hash": "b0fa6594d8f4cbf19f97940f81e996739fb7646882a419484c72d19e05852a7e"
   }
  }
 },
 "nbformat": 4,
 "nbformat_minor": 2
}
