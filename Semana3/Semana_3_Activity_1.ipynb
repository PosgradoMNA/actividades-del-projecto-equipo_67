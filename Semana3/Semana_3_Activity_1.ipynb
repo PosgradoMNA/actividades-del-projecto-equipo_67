{
  "nbformat": 4,
  "nbformat_minor": 0,
  "metadata": {
    "colab": {
      "provenance": [],
      "authorship_tag": "ABX9TyMb40YW79f4YZsiBiPAsXnG",
      "include_colab_link": true
    },
    "kernelspec": {
      "name": "python3",
      "display_name": "Python 3"
    },
    "language_info": {
      "name": "python"
    }
  },
  "cells": [
    {
      "cell_type": "markdown",
      "metadata": {
        "id": "view-in-github",
        "colab_type": "text"
      },
      "source": [
        "<a href=\"https://colab.research.google.com/github/PosgradoMNA/actividades-del-projecto-equipo_67/blob/main/Semana3/Semana_3_Activity_1.ipynb\" target=\"_parent\"><img src=\"https://colab.research.google.com/assets/colab-badge.svg\" alt=\"Open In Colab\"/></a>"
      ]
    },
    {
      "cell_type": "markdown",
      "source": [
        "\n",
        "# ACTIVIDAD 1 SEMANA 3\n",
        "\n",
        "##Ciencia y analítica de datos\n",
        "\n",
        "### Participantes:\n",
        "A01793810 - Jerson David Pérez Contreras\n",
        "###Fecha:\n",
        "4 de octubre del 2022\n",
        "\n",
        "### **Parte 1: Fundamentos de bases de datos**\n",
        "### **Fundamentos de bases de datos y para ciencia de datos.**\n",
        "\n",
        "La bases de datos es un software que permite almacenar información de diferentes temas que son de interés para las personas o empresas, y esta es utilizada como ciencia de datos al buscar analizar y comprender el comportamiento de los datos para las tomas de decisiones dentro de la compañías.\n",
        "\n",
        "\n",
        "\n",
        "### **Fundamentos de almacenes de datos (Data Warehouse) para ciencia de datos.**\n",
        "\n",
        "La Data warehouse es una forma de almacenar varias bases de datos o tablas de una manera mas ordenada, buscando de esta base central una mejor compresion al relacionar diferentes fuentes de informacion\n",
        "\n",
        "### **Parte 2: Selección y limpieza de los Datos en Python**\n",
        "\n",
        "### Cargue de la informacion:\n",
        "\n",
        "Fuente: https://raw.githubusercontent.com/PosgradoMNA/Actividades_Aprendizaje-/main/default%20of%20credit%20card%20clients.csv\n",
        "\n",
        "### Informacion de la Data:\n",
        "Esta investigación apuntó al caso de los pagos predeterminados de los clientes en Taiwán y compara la precisión predictiva de la probabilidad de incumplimiento entre seis métodos de minería de datos. Desde la perspectiva de la gestión de riesgos, el resultado de la precisión predictiva de la probabilidad de incumplimiento estimada será más valioso que el resultado binario de la clasificación: clientes creíbles o no creíbles. Debido a que se desconoce la probabilidad real de incumplimiento, este estudio presentó el novedoso \"Método de suavizado de clasificación\" para estimar la probabilidad real de incumplimiento. Con la probabilidad real de incumplimiento como variable de respuesta (Y) y la probabilidad predictiva de incumplimiento como variable independiente (X), el resultado de la regresión lineal simple (Y = A + BX) muestra que el modelo de pronóstico producido por la red neuronal artificial tiene el coeficiente de determinación más alto; su intersección de regresión (A) es cercana a cero y el coeficiente de regresión (B) a uno. Por lo tanto, entre las seis técnicas de minería de datos, la red neuronal artificial es la única que puede estimar con precisión la probabilidad real de incumplimiento.\n",
        "\n",
        "### Read Data desde la fuente\n",
        "\n",
        "\n",
        "\n"
      ],
      "metadata": {
        "id": "2kleuSPW_GYy"
      }
    },
    {
      "cell_type": "code",
      "source": [
        "import pandas as pd\n",
        "\n",
        "df_data = pd.read_csv('https://raw.githubusercontent.com/PosgradoMNA/Actividades_Aprendizaje-/main/default%20of%20credit%20card%20clients.csv')\n",
        "describe(df_data) ## visualizacion contenido de la tabla"
      ],
      "metadata": {
        "id": "hp6FhQnFDinq",
        "outputId": "2f345e39-e0e3-40a3-9179-2bc75384e3b3",
        "colab": {
          "base_uri": "https://localhost:8080/",
          "height": 207
        }
      },
      "execution_count": 1,
      "outputs": [
        {
          "output_type": "error",
          "ename": "NameError",
          "evalue": "ignored",
          "traceback": [
            "\u001b[0;31m---------------------------------------------------------------------------\u001b[0m",
            "\u001b[0;31mNameError\u001b[0m                                 Traceback (most recent call last)",
            "\u001b[0;32m<ipython-input-1-0110522532c2>\u001b[0m in \u001b[0;36m<module>\u001b[0;34m\u001b[0m\n\u001b[1;32m      2\u001b[0m \u001b[0;34m\u001b[0m\u001b[0m\n\u001b[1;32m      3\u001b[0m \u001b[0mdf_data\u001b[0m \u001b[0;34m=\u001b[0m \u001b[0mpd\u001b[0m\u001b[0;34m.\u001b[0m\u001b[0mread_csv\u001b[0m\u001b[0;34m(\u001b[0m\u001b[0;34m'https://raw.githubusercontent.com/PosgradoMNA/Actividades_Aprendizaje-/main/default%20of%20credit%20card%20clients.csv'\u001b[0m\u001b[0;34m)\u001b[0m\u001b[0;34m\u001b[0m\u001b[0;34m\u001b[0m\u001b[0m\n\u001b[0;32m----> 4\u001b[0;31m \u001b[0mdescribe\u001b[0m\u001b[0;34m(\u001b[0m\u001b[0mdf_data\u001b[0m\u001b[0;34m)\u001b[0m \u001b[0;31m## visualizacion contenido de la tabla\u001b[0m\u001b[0;34m\u001b[0m\u001b[0;34m\u001b[0m\u001b[0m\n\u001b[0m",
            "\u001b[0;31mNameError\u001b[0m: name 'describe' is not defined"
          ]
        }
      ]
    }
  ]
}