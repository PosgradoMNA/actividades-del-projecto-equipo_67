{
  "nbformat": 4,
  "nbformat_minor": 0,
  "metadata": {
    "colab": {
      "provenance": [],
      "authorship_tag": "ABX9TyNPpeJhcflSi//gCb0+oKCo",
      "include_colab_link": true
    },
    "kernelspec": {
      "name": "python3",
      "display_name": "Python 3"
    },
    "language_info": {
      "name": "python"
    }
  },
  "cells": [
    {
      "cell_type": "markdown",
      "metadata": {
        "id": "view-in-github",
        "colab_type": "text"
      },
      "source": [
        "<a href=\"https://colab.research.google.com/github/PosgradoMNA/actividades-del-projecto-equipo_67/blob/main/Entrega_2.ipynb\" target=\"_parent\"><img src=\"https://colab.research.google.com/assets/colab-badge.svg\" alt=\"Open In Colab\"/></a>"
      ]
    },
    {
      "cell_type": "code",
      "execution_count": null,
      "metadata": {
        "id": "ggBW2l04eTp1"
      },
      "outputs": [],
      "source": [
        "# TECNOLOGICO DE MONTEREY\n",
        "\n",
        "\n",
        "\n",
        "\n",
        "\n",
        "#Maestria en inteligencia artificial aplicada\n",
        "\n",
        "\n",
        "\n",
        "\n",
        "\n",
        "##Ciencia y Analitica de datos\n",
        "\n",
        "\n",
        "## Entrega 2 (18/11) -> Clasificación-ensamble\n",
        "\n",
        "\n",
        "\n",
        "## Profesora:\n",
        "\n",
        "María de la Paz Rico Fernández\n",
        "\n",
        "\n",
        "\n",
        "\n",
        "\n",
        "# Presentado por: \n",
        "\n",
        "Jerson David Perez Contreras\n",
        "\n",
        "A01793810\n",
        "\n",
        "Liga Git: "
      ]
    },
    {
      "cell_type": "code",
      "source": [
        "## LIBRERIAS\n",
        "#Importación de Librerías\n",
        "import requests, zipfile\n",
        "from io import BytesIO\n",
        "import pandas as pd\n",
        "import numpy as np\n",
        "import random\n",
        "%matplotlib inline\n",
        "import matplotlib\n",
        "import matplotlib.pyplot as plt\n",
        "import seaborn as sns\n",
        "from sklearn import metrics\n",
        "from sklearn.metrics import r2_score\n",
        "from sklearn.linear_model import Ridge\n",
        "from sklearn.linear_model import LinearRegression, Lasso, Ridge, ElasticNet\n",
        "from sklearn.preprocessing import PolynomialFeatures\n",
        "from sklearn import metrics\n",
        "from sklearn.model_selection import RepeatedKFold, RepeatedStratifiedKFold\n",
        "from sklearn.metrics import r2_score\n",
        "from sklearn.metrics import mean_squared_error, mean_absolute_percentage_error,  make_scorer\n",
        "from sklearn.model_selection import cross_val_score\n",
        "from sklearn.preprocessing import StandardScaler\n",
        "from sklearn.pipeline import Pipeline\n",
        "from sklearn.model_selection import train_test_split, GridSearchCV, train_test_split, RepeatedKFold, cross_validate\n",
        "from sklearn.preprocessing import MinMaxScaler\n",
        "from sklearn.preprocessing import power_transform\n",
        "\n",
        "\n",
        "#  relaizamos cargue de la base\n",
        "\n",
        "#Importar datos\n",
        "url = 'http://201.116.60.46/Datos_de_calidad_del_agua_de_5000_sitios_de_monitoreo.zip'\n",
        "filename = url.split('/')\n",
        "req = requests.get(url)\n",
        "zipfile= zipfile.ZipFile(BytesIO(req.content))\n",
        "\n",
        "zipfile.extractall('/content/Datos_de_calidad_del_agua_de_5000_sitios_de_monitoreo')\n",
        "## trabajamos con la base de Aguas subterraneas.\n",
        "df = pd.read_csv(\"/content/Datos_de_calidad_del_agua_de_5000_sitios_de_monitoreo/Datos_de_calidad_del_agua_2020/Datos_de_calidad_del_agua_de_sitios_de_monitoreo_de_aguas_subterraneas_2020.csv\",  encoding=\"cp1252\")\n",
        "\n",
        "\n",
        "## relizamos la limpieza rapida de los datos\n",
        "\n",
        "\n",
        "df.drop(columns=[\"SDT_mg/L\"], inplace=True)\n",
        "df.drop(columns=[\"CLAVE\"], inplace=True)\n",
        "\n",
        "df['CONTAMINANTES'] = df['CONTAMINANTES'].replace(np.nan, \"Desconocido\")\n",
        "\n",
        "df.dropna(inplace=True)\n",
        "\n",
        "## ARREGLASMOA CAMPOS NUMERICOS\n",
        "df['SDT_M_mg/L'].replace('<25', (25*.6), inplace=True)\n",
        "df['FLUORUROS_mg/L'].replace('<0.2', (0.2*.6), inplace=True)\n",
        "df['DUR_mg/L'].replace('<20', (20*.6), inplace=True)\n",
        "df['COLI_FEC_NMP/100_mL'].replace('<1.1', (1.1), inplace=True)\n",
        "df['N_NO3_mg/L'].replace('<0.02', (0.02), inplace=True)\n",
        "df['AS_TOT_mg/L'].replace('<0.01', (0.01), inplace=True)\n",
        "df['CD_TOT_mg/L'].replace('<0.003', (0.003), inplace=True)\n",
        "df['CR_TOT_mg/L'].replace('<0.005', (0.005), inplace=True)\n",
        "df['HG_TOT_mg/L'].replace('<0.0005', (0.0005), inplace=True)\n",
        "df['PB_TOT_mg/L'].replace('<0.005', (0.005), inplace=True)\n",
        "df['MN_TOT_mg/L'].replace('<0.0015', (0.0015), inplace=True)\n",
        "df['FE_TOT_mg/L'].replace('<0.025', (0.025), inplace=True)\n",
        "\n",
        "var_numeric = [\"ALC_mg/L\",\"SDT_M_mg/L\",'FLUORUROS_mg/L',  'COLI_FEC_NMP/100_mL', 'N_NO3_mg/L', 'AS_TOT_mg/L',\n",
        "    'CD_TOT_mg/L', 'CR_TOT_mg/L',  'HG_TOT_mg/L',  'PB_TOT_mg/L',  'MN_TOT_mg/L',  'FE_TOT_mg/L']\n",
        "\n",
        "var_ategoricas = [ \"DUR_mg/L\",'SUBTIPO', 'CALIDAD_ALC', 'CALIDAD_CONDUC', 'CALIDAD_SDT_ra', 'CALIDAD_SDT_salin', 'CALIDAD_FLUO',  'CALIDAD_DUR','CONTAMINANTES',\n",
        " 'CALIDAD_COLI_FEC', 'CALIDAD_N_NO3', 'CALIDAD_AS', 'CALIDAD_CD', 'CALIDAD_CR', 'CALIDAD_HG', 'CALIDAD_PB', 'CALIDAD_MN', 'CALIDAD_FE',\n",
        " 'CUMPLE_CON_ALC', 'CUMPLE_CON_COND', 'CUMPLE_CON_SDT_ra', 'CUMPLE_CON_SDT_salin', 'CUMPLE_CON_FLUO', 'CUMPLE_CON_DUR', 'CUMPLE_CON_CF',\n",
        " 'CUMPLE_CON_NO3', 'CUMPLE_CON_AS', 'CUMPLE_CON_CD', 'CUMPLE_CON_CR', 'CUMPLE_CON_HG', 'CUMPLE_CON_PB', 'CUMPLE_CON_MN', 'CUMPLE_CON_FE',  'SEMAFORO']\n",
        "\n",
        "\n",
        "df[var_numeric]= df[var_numeric].astype('float')\n",
        "\n",
        "df[var_ategoricas] = df[var_ategoricas].astype('category')"
      ],
      "metadata": {
        "id": "Nbae0tnHe2UO"
      },
      "execution_count": null,
      "outputs": []
    },
    {
      "cell_type": "code",
      "source": [
        "# Dividimos ña base en variables X Y Variebles Y (Semaforo)\n",
        "\n",
        "\n",
        "X = df[var_numeric]\n",
        "\n",
        "y = df[['SEMAFORO']]"
      ],
      "metadata": {
        "id": "6s1pnwykflYN"
      },
      "execution_count": null,
      "outputs": []
    },
    {
      "cell_type": "code",
      "source": [
        "from sklearn import preprocessing\n",
        "label_encoding= preprocessing.LabelEncoder()\n",
        "label_encoding.fit(y['SEMAFORO'])\n",
        "\n",
        "# Verificamos la codificación de cada color\n",
        "label_encoding.transform(['Amarillo', 'Rojo', 'Verde'])\n",
        "\n",
        "# Transformamos la columna\n",
        "y['SEMAFORO'] = label_encoding.transform(y['SEMAFORO'])"
      ],
      "metadata": {
        "colab": {
          "base_uri": "https://localhost:8080/"
        },
        "id": "5OphJvmKgTrK",
        "outputId": "989a7057-73d3-4398-9cf6-9aa9177003af"
      },
      "execution_count": null,
      "outputs": [
        {
          "output_type": "stream",
          "name": "stderr",
          "text": [
            "/usr/local/lib/python3.7/dist-packages/ipykernel_launcher.py:9: SettingWithCopyWarning: \n",
            "A value is trying to be set on a copy of a slice from a DataFrame.\n",
            "Try using .loc[row_indexer,col_indexer] = value instead\n",
            "\n",
            "See the caveats in the documentation: https://pandas.pydata.org/pandas-docs/stable/user_guide/indexing.html#returning-a-view-versus-a-copy\n",
            "  if __name__ == '__main__':\n"
          ]
        }
      ]
    },
    {
      "cell_type": "code",
      "source": [
        "y.head()"
      ],
      "metadata": {
        "colab": {
          "base_uri": "https://localhost:8080/",
          "height": 206
        },
        "id": "lnhgIaOEg92P",
        "outputId": "c80f9064-0994-454a-e258-7eb70971cd0a"
      },
      "execution_count": null,
      "outputs": [
        {
          "output_type": "execute_result",
          "data": {
            "text/plain": [
              "   SEMAFORO\n",
              "0         2\n",
              "1         2\n",
              "2         1\n",
              "3         2\n",
              "4         1"
            ],
            "text/html": [
              "\n",
              "  <div id=\"df-0c76fc12-ab9e-4d5b-90a2-6e90a5f29868\">\n",
              "    <div class=\"colab-df-container\">\n",
              "      <div>\n",
              "<style scoped>\n",
              "    .dataframe tbody tr th:only-of-type {\n",
              "        vertical-align: middle;\n",
              "    }\n",
              "\n",
              "    .dataframe tbody tr th {\n",
              "        vertical-align: top;\n",
              "    }\n",
              "\n",
              "    .dataframe thead th {\n",
              "        text-align: right;\n",
              "    }\n",
              "</style>\n",
              "<table border=\"1\" class=\"dataframe\">\n",
              "  <thead>\n",
              "    <tr style=\"text-align: right;\">\n",
              "      <th></th>\n",
              "      <th>SEMAFORO</th>\n",
              "    </tr>\n",
              "  </thead>\n",
              "  <tbody>\n",
              "    <tr>\n",
              "      <th>0</th>\n",
              "      <td>2</td>\n",
              "    </tr>\n",
              "    <tr>\n",
              "      <th>1</th>\n",
              "      <td>2</td>\n",
              "    </tr>\n",
              "    <tr>\n",
              "      <th>2</th>\n",
              "      <td>1</td>\n",
              "    </tr>\n",
              "    <tr>\n",
              "      <th>3</th>\n",
              "      <td>2</td>\n",
              "    </tr>\n",
              "    <tr>\n",
              "      <th>4</th>\n",
              "      <td>1</td>\n",
              "    </tr>\n",
              "  </tbody>\n",
              "</table>\n",
              "</div>\n",
              "      <button class=\"colab-df-convert\" onclick=\"convertToInteractive('df-0c76fc12-ab9e-4d5b-90a2-6e90a5f29868')\"\n",
              "              title=\"Convert this dataframe to an interactive table.\"\n",
              "              style=\"display:none;\">\n",
              "        \n",
              "  <svg xmlns=\"http://www.w3.org/2000/svg\" height=\"24px\"viewBox=\"0 0 24 24\"\n",
              "       width=\"24px\">\n",
              "    <path d=\"M0 0h24v24H0V0z\" fill=\"none\"/>\n",
              "    <path d=\"M18.56 5.44l.94 2.06.94-2.06 2.06-.94-2.06-.94-.94-2.06-.94 2.06-2.06.94zm-11 1L8.5 8.5l.94-2.06 2.06-.94-2.06-.94L8.5 2.5l-.94 2.06-2.06.94zm10 10l.94 2.06.94-2.06 2.06-.94-2.06-.94-.94-2.06-.94 2.06-2.06.94z\"/><path d=\"M17.41 7.96l-1.37-1.37c-.4-.4-.92-.59-1.43-.59-.52 0-1.04.2-1.43.59L10.3 9.45l-7.72 7.72c-.78.78-.78 2.05 0 2.83L4 21.41c.39.39.9.59 1.41.59.51 0 1.02-.2 1.41-.59l7.78-7.78 2.81-2.81c.8-.78.8-2.07 0-2.86zM5.41 20L4 18.59l7.72-7.72 1.47 1.35L5.41 20z\"/>\n",
              "  </svg>\n",
              "      </button>\n",
              "      \n",
              "  <style>\n",
              "    .colab-df-container {\n",
              "      display:flex;\n",
              "      flex-wrap:wrap;\n",
              "      gap: 12px;\n",
              "    }\n",
              "\n",
              "    .colab-df-convert {\n",
              "      background-color: #E8F0FE;\n",
              "      border: none;\n",
              "      border-radius: 50%;\n",
              "      cursor: pointer;\n",
              "      display: none;\n",
              "      fill: #1967D2;\n",
              "      height: 32px;\n",
              "      padding: 0 0 0 0;\n",
              "      width: 32px;\n",
              "    }\n",
              "\n",
              "    .colab-df-convert:hover {\n",
              "      background-color: #E2EBFA;\n",
              "      box-shadow: 0px 1px 2px rgba(60, 64, 67, 0.3), 0px 1px 3px 1px rgba(60, 64, 67, 0.15);\n",
              "      fill: #174EA6;\n",
              "    }\n",
              "\n",
              "    [theme=dark] .colab-df-convert {\n",
              "      background-color: #3B4455;\n",
              "      fill: #D2E3FC;\n",
              "    }\n",
              "\n",
              "    [theme=dark] .colab-df-convert:hover {\n",
              "      background-color: #434B5C;\n",
              "      box-shadow: 0px 1px 3px 1px rgba(0, 0, 0, 0.15);\n",
              "      filter: drop-shadow(0px 1px 2px rgba(0, 0, 0, 0.3));\n",
              "      fill: #FFFFFF;\n",
              "    }\n",
              "  </style>\n",
              "\n",
              "      <script>\n",
              "        const buttonEl =\n",
              "          document.querySelector('#df-0c76fc12-ab9e-4d5b-90a2-6e90a5f29868 button.colab-df-convert');\n",
              "        buttonEl.style.display =\n",
              "          google.colab.kernel.accessAllowed ? 'block' : 'none';\n",
              "\n",
              "        async function convertToInteractive(key) {\n",
              "          const element = document.querySelector('#df-0c76fc12-ab9e-4d5b-90a2-6e90a5f29868');\n",
              "          const dataTable =\n",
              "            await google.colab.kernel.invokeFunction('convertToInteractive',\n",
              "                                                     [key], {});\n",
              "          if (!dataTable) return;\n",
              "\n",
              "          const docLinkHtml = 'Like what you see? Visit the ' +\n",
              "            '<a target=\"_blank\" href=https://colab.research.google.com/notebooks/data_table.ipynb>data table notebook</a>'\n",
              "            + ' to learn more about interactive tables.';\n",
              "          element.innerHTML = '';\n",
              "          dataTable['output_type'] = 'display_data';\n",
              "          await google.colab.output.renderOutput(dataTable, element);\n",
              "          const docLink = document.createElement('div');\n",
              "          docLink.innerHTML = docLinkHtml;\n",
              "          element.appendChild(docLink);\n",
              "        }\n",
              "      </script>\n",
              "    </div>\n",
              "  </div>\n",
              "  "
            ]
          },
          "metadata": {},
          "execution_count": 11
        }
      ]
    },
    {
      "cell_type": "markdown",
      "source": [
        "##features importances a traves de decision trees o random forest "
      ],
      "metadata": {
        "id": "VBi-4AQDhPBt"
      }
    },
    {
      "cell_type": "code",
      "source": [
        "from sklearn.ensemble import RandomForestClassifier\n",
        "from sklearn.tree import DecisionTreeClassifier\n",
        "from sklearn.model_selection import train_test_split\n",
        "\n",
        "\n",
        "RF = RandomForestClassifier(n_estimators=500, random_state=42)\n",
        "RF.fit(X[var_numeric], y)\n",
        "\n",
        "for score, name in zip (RF.feature_importances_, X.columns):\n",
        "  print(name, round(score, 2))"
      ],
      "metadata": {
        "colab": {
          "base_uri": "https://localhost:8080/"
        },
        "id": "aQaIMgHGhD_V",
        "outputId": "a8829d82-62b6-4833-e5e6-95e2e33671d5"
      },
      "execution_count": null,
      "outputs": [
        {
          "output_type": "stream",
          "name": "stderr",
          "text": [
            "/usr/local/lib/python3.7/dist-packages/ipykernel_launcher.py:7: DataConversionWarning: A column-vector y was passed when a 1d array was expected. Please change the shape of y to (n_samples,), for example using ravel().\n",
            "  import sys\n"
          ]
        },
        {
          "output_type": "stream",
          "name": "stdout",
          "text": [
            "ALC_mg/L 0.06\n",
            "SDT_M_mg/L 0.18\n",
            "FLUORUROS_mg/L 0.23\n",
            "COLI_FEC_NMP/100_mL 0.09\n",
            "N_NO3_mg/L 0.12\n",
            "AS_TOT_mg/L 0.12\n",
            "CD_TOT_mg/L 0.0\n",
            "CR_TOT_mg/L 0.02\n",
            "HG_TOT_mg/L 0.01\n",
            "PB_TOT_mg/L 0.01\n",
            "MN_TOT_mg/L 0.08\n",
            "FE_TOT_mg/L 0.09\n"
          ]
        }
      ]
    },
    {
      "cell_type": "markdown",
      "source": [
        "Las variables con mayor importancias para el modelo son :\n",
        "\n",
        "FLUORUROS_mg/L 23%\n",
        "\n",
        "SDT_M_mg/L 18%\n",
        "\n",
        "N_NO3_mg/L 12%\n",
        "\n",
        "AS_TOT_mg/L12%\n",
        "\n",
        "Representando estas mas del 10% de importancia con una suma total del 65% de importancia\n",
        "\n",
        "##Selecciona las variables de mayor importancia"
      ],
      "metadata": {
        "id": "DXUSMUvEh9jt"
      }
    },
    {
      "cell_type": "code",
      "source": [
        "var_seleccion= [\"FLUORUROS_mg/L\",\"SDT_M_mg/L\",\"N_NO3_mg/L\",\"AS_TOT_mg/L\"]\n",
        "\n",
        "X = df[var_seleccion]\n",
        "\n",
        "X.head()"
      ],
      "metadata": {
        "colab": {
          "base_uri": "https://localhost:8080/",
          "height": 206
        },
        "id": "m9r7yIdxjH0P",
        "outputId": "49f67000-bcf1-4a34-d778-9cca9134b1f1"
      },
      "execution_count": null,
      "outputs": [
        {
          "output_type": "execute_result",
          "data": {
            "text/plain": [
              "   FLUORUROS_mg/L  SDT_M_mg/L  N_NO3_mg/L  AS_TOT_mg/L\n",
              "0          0.9766       603.6    4.184656       0.0161\n",
              "1          0.9298       445.4    5.750110       0.0134\n",
              "2          1.8045       342.0    1.449803       0.0370\n",
              "3          1.1229       478.6    1.258597       0.0154\n",
              "4          0.2343      1179.0   15.672251       0.0100"
            ],
            "text/html": [
              "\n",
              "  <div id=\"df-845dc07b-f434-41a6-b705-2e3dae202102\">\n",
              "    <div class=\"colab-df-container\">\n",
              "      <div>\n",
              "<style scoped>\n",
              "    .dataframe tbody tr th:only-of-type {\n",
              "        vertical-align: middle;\n",
              "    }\n",
              "\n",
              "    .dataframe tbody tr th {\n",
              "        vertical-align: top;\n",
              "    }\n",
              "\n",
              "    .dataframe thead th {\n",
              "        text-align: right;\n",
              "    }\n",
              "</style>\n",
              "<table border=\"1\" class=\"dataframe\">\n",
              "  <thead>\n",
              "    <tr style=\"text-align: right;\">\n",
              "      <th></th>\n",
              "      <th>FLUORUROS_mg/L</th>\n",
              "      <th>SDT_M_mg/L</th>\n",
              "      <th>N_NO3_mg/L</th>\n",
              "      <th>AS_TOT_mg/L</th>\n",
              "    </tr>\n",
              "  </thead>\n",
              "  <tbody>\n",
              "    <tr>\n",
              "      <th>0</th>\n",
              "      <td>0.9766</td>\n",
              "      <td>603.6</td>\n",
              "      <td>4.184656</td>\n",
              "      <td>0.0161</td>\n",
              "    </tr>\n",
              "    <tr>\n",
              "      <th>1</th>\n",
              "      <td>0.9298</td>\n",
              "      <td>445.4</td>\n",
              "      <td>5.750110</td>\n",
              "      <td>0.0134</td>\n",
              "    </tr>\n",
              "    <tr>\n",
              "      <th>2</th>\n",
              "      <td>1.8045</td>\n",
              "      <td>342.0</td>\n",
              "      <td>1.449803</td>\n",
              "      <td>0.0370</td>\n",
              "    </tr>\n",
              "    <tr>\n",
              "      <th>3</th>\n",
              "      <td>1.1229</td>\n",
              "      <td>478.6</td>\n",
              "      <td>1.258597</td>\n",
              "      <td>0.0154</td>\n",
              "    </tr>\n",
              "    <tr>\n",
              "      <th>4</th>\n",
              "      <td>0.2343</td>\n",
              "      <td>1179.0</td>\n",
              "      <td>15.672251</td>\n",
              "      <td>0.0100</td>\n",
              "    </tr>\n",
              "  </tbody>\n",
              "</table>\n",
              "</div>\n",
              "      <button class=\"colab-df-convert\" onclick=\"convertToInteractive('df-845dc07b-f434-41a6-b705-2e3dae202102')\"\n",
              "              title=\"Convert this dataframe to an interactive table.\"\n",
              "              style=\"display:none;\">\n",
              "        \n",
              "  <svg xmlns=\"http://www.w3.org/2000/svg\" height=\"24px\"viewBox=\"0 0 24 24\"\n",
              "       width=\"24px\">\n",
              "    <path d=\"M0 0h24v24H0V0z\" fill=\"none\"/>\n",
              "    <path d=\"M18.56 5.44l.94 2.06.94-2.06 2.06-.94-2.06-.94-.94-2.06-.94 2.06-2.06.94zm-11 1L8.5 8.5l.94-2.06 2.06-.94-2.06-.94L8.5 2.5l-.94 2.06-2.06.94zm10 10l.94 2.06.94-2.06 2.06-.94-2.06-.94-.94-2.06-.94 2.06-2.06.94z\"/><path d=\"M17.41 7.96l-1.37-1.37c-.4-.4-.92-.59-1.43-.59-.52 0-1.04.2-1.43.59L10.3 9.45l-7.72 7.72c-.78.78-.78 2.05 0 2.83L4 21.41c.39.39.9.59 1.41.59.51 0 1.02-.2 1.41-.59l7.78-7.78 2.81-2.81c.8-.78.8-2.07 0-2.86zM5.41 20L4 18.59l7.72-7.72 1.47 1.35L5.41 20z\"/>\n",
              "  </svg>\n",
              "      </button>\n",
              "      \n",
              "  <style>\n",
              "    .colab-df-container {\n",
              "      display:flex;\n",
              "      flex-wrap:wrap;\n",
              "      gap: 12px;\n",
              "    }\n",
              "\n",
              "    .colab-df-convert {\n",
              "      background-color: #E8F0FE;\n",
              "      border: none;\n",
              "      border-radius: 50%;\n",
              "      cursor: pointer;\n",
              "      display: none;\n",
              "      fill: #1967D2;\n",
              "      height: 32px;\n",
              "      padding: 0 0 0 0;\n",
              "      width: 32px;\n",
              "    }\n",
              "\n",
              "    .colab-df-convert:hover {\n",
              "      background-color: #E2EBFA;\n",
              "      box-shadow: 0px 1px 2px rgba(60, 64, 67, 0.3), 0px 1px 3px 1px rgba(60, 64, 67, 0.15);\n",
              "      fill: #174EA6;\n",
              "    }\n",
              "\n",
              "    [theme=dark] .colab-df-convert {\n",
              "      background-color: #3B4455;\n",
              "      fill: #D2E3FC;\n",
              "    }\n",
              "\n",
              "    [theme=dark] .colab-df-convert:hover {\n",
              "      background-color: #434B5C;\n",
              "      box-shadow: 0px 1px 3px 1px rgba(0, 0, 0, 0.15);\n",
              "      filter: drop-shadow(0px 1px 2px rgba(0, 0, 0, 0.3));\n",
              "      fill: #FFFFFF;\n",
              "    }\n",
              "  </style>\n",
              "\n",
              "      <script>\n",
              "        const buttonEl =\n",
              "          document.querySelector('#df-845dc07b-f434-41a6-b705-2e3dae202102 button.colab-df-convert');\n",
              "        buttonEl.style.display =\n",
              "          google.colab.kernel.accessAllowed ? 'block' : 'none';\n",
              "\n",
              "        async function convertToInteractive(key) {\n",
              "          const element = document.querySelector('#df-845dc07b-f434-41a6-b705-2e3dae202102');\n",
              "          const dataTable =\n",
              "            await google.colab.kernel.invokeFunction('convertToInteractive',\n",
              "                                                     [key], {});\n",
              "          if (!dataTable) return;\n",
              "\n",
              "          const docLinkHtml = 'Like what you see? Visit the ' +\n",
              "            '<a target=\"_blank\" href=https://colab.research.google.com/notebooks/data_table.ipynb>data table notebook</a>'\n",
              "            + ' to learn more about interactive tables.';\n",
              "          element.innerHTML = '';\n",
              "          dataTable['output_type'] = 'display_data';\n",
              "          await google.colab.output.renderOutput(dataTable, element);\n",
              "          const docLink = document.createElement('div');\n",
              "          docLink.innerHTML = docLinkHtml;\n",
              "          element.appendChild(docLink);\n",
              "        }\n",
              "      </script>\n",
              "    </div>\n",
              "  </div>\n",
              "  "
            ]
          },
          "metadata": {},
          "execution_count": 14
        }
      ]
    },
    {
      "cell_type": "markdown",
      "source": [
        "ealiza tu clasificador, recuerda dividir los datos de manera balanceada (auxiliate de train test split)"
      ],
      "metadata": {
        "id": "-2KpP8Jvjn_H"
      }
    },
    {
      "cell_type": "code",
      "source": [
        "from sklearn.preprocessing import label_binarize\n",
        "\n",
        "\n",
        "##se requiere binarizar las clases utilizando label_binarize.\n",
        "Y = label_binarize(y, classes=[0,1,2])\n",
        "\n",
        "# Dividimos los datos de entrenamiento y prueba 80/20\n",
        "X_train, X_test, y_train, y_test = train_test_split(X, Y, test_size = 0.20, random_state = 42)\n"
      ],
      "metadata": {
        "id": "J-3LX7eDjo8V"
      },
      "execution_count": null,
      "outputs": []
    },
    {
      "cell_type": "markdown",
      "source": [
        "##Explora que clasificador es el más optimo"
      ],
      "metadata": {
        "id": "0--mTRBskskO"
      }
    },
    {
      "cell_type": "code",
      "source": [
        "from sklearn import metrics\n",
        "from sklearn.metrics import ConfusionMatrixDisplay, classification_report\n",
        "from sklearn.metrics import precision_recall_curve\n",
        "from sklearn.multiclass import OneVsRestClassifier\n",
        "from sklearn.tree import export_graphviz\n",
        "from graphviz import Source\n",
        "\n",
        "## revisamnos Desicion Tree cambiando diferentes argumenros\n",
        "\n",
        "DT1 = DecisionTreeClassifier(max_depth=5, min_samples_leaf= 6, random_state=30, class_weight='balanced')\n",
        "DT2 = DecisionTreeClassifier(max_depth=4, min_samples_leaf= 5, random_state=30, class_weight='balanced')\n",
        "DT3 = DecisionTreeClassifier(max_depth=3, min_samples_leaf= 4, random_state=30, class_weight='balanced')\n",
        "DT4 = DecisionTreeClassifier(max_depth=2, min_samples_leaf= 3, random_state=30, class_weight='balanced')\n",
        "\n",
        "DT1.fit(X_train, y_train)\n",
        "DT2.fit(X_train, y_train) \n",
        "DT3.fit(X_train, y_train)\n",
        "DT4.fit(X_train, y_train)\n",
        "\n",
        "print( \"Presiciones:\")\n",
        "\n",
        "print('Decision Tree 1:', round(DT1.score(X_train, y_train)*100, 2))\n",
        "print('Decision Tree 2:', round(DT2.score(X_train, y_train)*100, 2))\n",
        "print('Decision Tree 3:', round(DT3.score(X_train, y_train)*100, 2))\n",
        "print('Decision Tree 4:', round(DT4.score(X_train, y_train)*100, 2))"
      ],
      "metadata": {
        "colab": {
          "base_uri": "https://localhost:8080/"
        },
        "id": "bUjKsMBmkudn",
        "outputId": "df1e3318-bde0-476f-9795-30cfab89fc72"
      },
      "execution_count": null,
      "outputs": [
        {
          "output_type": "stream",
          "name": "stdout",
          "text": [
            "Presiciones:\n",
            "Decision Tree 1: 80.9\n",
            "Decision Tree 2: 78.65\n",
            "Decision Tree 3: 76.75\n",
            "Decision Tree 4: 68.68\n"
          ]
        }
      ]
    },
    {
      "cell_type": "code",
      "source": [
        "## Verificamos Ramdon Fores\n",
        "\n",
        "RF1 = RandomForestClassifier(random_state=30, n_estimators=100, min_samples_leaf=3, class_weight='balanced') \n",
        "RF2 = RandomForestClassifier(random_state=30, n_estimators=300, min_samples_leaf=3, class_weight='balanced')\n",
        "RF3 = RandomForestClassifier(random_state=30, n_estimators=500, min_samples_leaf=3, class_weight='balanced')\n",
        "RF4 = RandomForestClassifier(random_state=30, n_estimators=700, min_samples_leaf=3, class_weight='balanced')\n",
        "\n",
        "RF1.fit(X_train, y_train)\n",
        "RF2.fit(X_train, y_train) \n",
        "RF3.fit(X_train, y_train)\n",
        "RF4.fit(X_train, y_train)\n",
        "\n",
        "print( \"Presiciones:\")\n",
        "print('Accuracy de Random Forest 1:', round(RF1.score(X_train, y_train)*100, 2))\n",
        "print('Accuracy de Random Forest 2:', round(RF2.score(X_train, y_train)*100, 2))\n",
        "print('Accuracy de Random Forest 3:', round(RF3.score(X_train, y_train)*100, 2))\n",
        "print('Accuracy de Random Forest 4:', round(RF4.score(X_train, y_train)*100, 2))"
      ],
      "metadata": {
        "colab": {
          "base_uri": "https://localhost:8080/"
        },
        "id": "m6-uVZ6vl5au",
        "outputId": "3f3454b2-fed4-4771-c204-8d63d2e85be6"
      },
      "execution_count": null,
      "outputs": [
        {
          "output_type": "stream",
          "name": "stdout",
          "text": [
            "Presiciones:\n",
            "Accuracy de Random Forest 1: 85.65\n",
            "Accuracy de Random Forest 2: 85.29\n",
            "Accuracy de Random Forest 3: 85.53\n",
            "Accuracy de Random Forest 4: 85.41\n"
          ]
        }
      ]
    },
    {
      "cell_type": "markdown",
      "source": [
        "EL random Forest tiene mejores presiciones que Desicion Tree\n",
        "\n",
        "##Determina el grado de exactitud a través del reporte de clasificación\n"
      ],
      "metadata": {
        "id": "2cFRQ6I1mmk0"
      }
    },
    {
      "cell_type": "code",
      "source": [
        "DTovr = OneVsRestClassifier(DT1)\n",
        "DTovr.fit(X_train, y_train)\n",
        "y_pred_probDT = DTovr.predict_proba(X_test)\n",
        "\n",
        "\n",
        "precision = dict()\n",
        "recall = dict()\n",
        "\n",
        "plt.figure(figsize=(10,8))\n",
        "for i in range(3):\n",
        "    precision[i], recall[i], _ = precision_recall_curve(y_test[:, i],\n",
        "                                                        y_pred_probDT[:, i]\n",
        "                                                        )\n",
        "    plt.plot(recall[i], precision[i], lw=2, label='class {}'.format(i))\n",
        "    \n",
        "plt.xlabel('recall')\n",
        "plt.ylabel('precision')\n",
        "plt.legend(loc='best')\n",
        "plt.title('Precision-Recall Decision Tree')\n",
        "plt.show()\n",
        "\n",
        "\n",
        "y_testDT = DT1.predict(X_test) \n",
        "\n",
        "print('Accuracy de Decision Tree:', round(DT1.score(X_test, y_test)*100, 2))\n",
        "print('___Reporte Decision Tree (set de prueba)___')\n",
        "print(classification_report(y_test, y_testDT, target_names=['0','1','2']), )"
      ],
      "metadata": {
        "colab": {
          "base_uri": "https://localhost:8080/",
          "height": 739
        },
        "id": "BsXfBlIfmyac",
        "outputId": "4d37599f-7b4b-4cb1-e43c-3decb1aa41b6"
      },
      "execution_count": null,
      "outputs": [
        {
          "output_type": "display_data",
          "data": {
            "text/plain": [
              "<Figure size 720x576 with 1 Axes>"
            ],
            "image/png": "[encoded data removed]"
          },
          "metadata": {
            "needs_background": "light"
          }
        },
        {
          "output_type": "stream",
          "name": "stdout",
          "text": [
            "Accuracy de Decision Tree: 85.78\n",
            "___Reporte Decision Tree (set de prueba)___\n",
            "              precision    recall  f1-score   support\n",
            "\n",
            "           0       0.76      0.82      0.79        55\n",
            "           1       1.00      0.86      0.92        69\n",
            "           2       0.83      0.89      0.86        87\n",
            "\n",
            "   micro avg       0.86      0.86      0.86       211\n",
            "   macro avg       0.86      0.85      0.86       211\n",
            "weighted avg       0.87      0.86      0.86       211\n",
            " samples avg       0.86      0.86      0.86       211\n",
            "\n"
          ]
        }
      ]
    },
    {
      "cell_type": "code",
      "source": [
        "RFovr = OneVsRestClassifier(RF3)\n",
        "RFovr.fit(X_train, y_train)\n",
        "y_pred_probRF = RFovr.predict_proba(X_test)\n",
        "\n",
        "precision = dict()\n",
        "recall = dict()\n",
        "\n",
        "plt.figure(figsize=(10,8))\n",
        "for i in range(3):\n",
        "    precision[i], recall[i], _ = precision_recall_curve(y_test[:, i],\n",
        "                                                        y_pred_probRF[:, i]\n",
        "                                                        )\n",
        "    plt.plot(recall[i], precision[i], lw=2, label='class {}'.format(i))\n",
        "    \n",
        "plt.xlabel('recall')\n",
        "plt.ylabel('precision')\n",
        "plt.legend(loc='lower left')\n",
        "plt.title('Curva Precision-Recall Random Forest')\n",
        "plt.show()\n",
        "\n",
        "y_testRF = RF3.predict(X_test) \n",
        "\n",
        "print('Accuracy de Random Forest:', round(RF3.score(X_test, y_test)*100, 2))\n",
        "print('___Reporte Random Forest (set de prueba)___')\n",
        "print(classification_report(y_test, y_testRF, target_names=['0','1','2']))"
      ],
      "metadata": {
        "colab": {
          "base_uri": "https://localhost:8080/",
          "height": 793
        },
        "id": "JOAIex3xnc9z",
        "outputId": "6af1db78-b4ff-43c3-b4d1-a5344aa5f716"
      },
      "execution_count": null,
      "outputs": [
        {
          "data": {
            "image/png": "[encoded data removed]",
            "text/plain": [
              "<Figure size 720x576 with 1 Axes>"
            ]
          },
          "metadata": {},
          "output_type": "display_data"
        },
        {
          "metadata": {
            "tags": null
          },
          "name": "stdout",
          "output_type": "stream",
          "text": [
            "Accuracy de Random Forest: 81.52\n",
            "___Reporte Random Forest (set de prueba)___\n",
            "              precision    recall  f1-score   support\n",
            "\n",
            "           0       0.84      0.69      0.76        55\n",
            "           1       0.98      0.87      0.92        69\n",
            "           2       0.83      0.85      0.84        87\n",
            "\n",
            "   micro avg       0.88      0.82      0.85       211\n",
            "   macro avg       0.89      0.80      0.84       211\n",
            "weighted avg       0.88      0.82      0.85       211\n",
            " samples avg       0.82      0.82      0.82       211\n",
            "\n"
          ]
        },
        {
          "metadata": {
            "tags": null
          },
          "name": "stderr",
          "output_type": "stream",
          "text": [
            "/usr/local/lib/python3.7/dist-packages/sklearn/metrics/_classification.py:1318: UndefinedMetricWarning: Precision and F-score are ill-defined and being set to 0.0 in samples with no predicted labels. Use `zero_division` parameter to control this behavior.\n",
            "  _warn_prf(average, modifier, msg_start, len(result))\n"
          ]
        }
      ]
    },
    {
      "cell_type": "markdown",
      "source": [
        "Como ya se habia evaluado el Random Forest tiene un amayor presicion, y dentro de las clases, la Uno representa mejor presicion que las demas clases\n",
        "\n",
        "##Visualiza los resultados del modelo o las predicciones a través de una matriz de confusión\n"
      ],
      "metadata": {
        "id": "kk5cBm4gn0Dr"
      }
    },
    {
      "cell_type": "code",
      "source": [
        "fig, axs = plt.subplots(figsize=(10,10))\n",
        "ConfusionMatrixDisplay.from_predictions(y_test.argmax(axis=1), y_testDT.argmax(axis=1),\n",
        "                                        display_labels=['Amarillo','Rojo','Verde'],\n",
        "                                        cmap='Blues', ax=axs\n",
        "                                        )\n",
        "\n",
        "axs.set_title('Decision Tree', fontsize=20)\n",
        "plt.show()"
      ],
      "metadata": {
        "colab": {
          "base_uri": "https://localhost:8080/",
          "height": 580
        },
        "id": "Aolj8p1noKYs",
        "outputId": "833b0cde-9b6a-47cf-a519-86023e850565"
      },
      "execution_count": null,
      "outputs": [
        {
          "output_type": "display_data",
          "data": {
            "text/plain": [
              "<Figure size 720x720 with 2 Axes>"
            ],
            "image/png": "[encoded data removed]"
          },
          "metadata": {
            "needs_background": "light"
          }
        }
      ]
    },
    {
      "cell_type": "code",
      "source": [
        "fig, axs = plt.subplots(figsize=(10,10))\n",
        "ConfusionMatrixDisplay.from_predictions(y_test.argmax(axis=1), y_testRF.argmax(axis=1),\n",
        "                                        display_labels=['Amarillo','Rojo','Verde'],\n",
        "                                        cmap='Blues', ax=axs\n",
        "                                        )\n",
        "\n",
        "axs.set_title(\"Random Forest\", fontsize=20)\n",
        "plt.show()"
      ],
      "metadata": {
        "colab": {
          "base_uri": "https://localhost:8080/",
          "height": 580
        },
        "id": "S8fv9OcfodYO",
        "outputId": "0a39c817-a13d-453a-9599-1fd07d436398"
      },
      "execution_count": null,
      "outputs": [
        {
          "output_type": "display_data",
          "data": {
            "text/plain": [
              "<Figure size 720x720 with 2 Axes>"
            ],
            "image/png": "[encoded data removed]"
          },
          "metadata": {
            "needs_background": "light"
          }
        }
      ]
    },
    {
      "cell_type": "markdown",
      "source": [
        "Conclusiones:\n",
        "\n",
        "Color Amarillo (clase 0) se puede decir que es donde genera mas equivoaciones, donde solo 44 se clasifica adecuadamanee mientras  4 las pone en rojo y 13 en verde.\n",
        "\n",
        "El color Rojo (clase 1): en ambos modelos se genera una buena prediccion.\n",
        "\n",
        "\n",
        "Color Verde (clase 2): tiene una mejor prediccion con el modelo Desicion Tree\n",
        "\n"
      ],
      "metadata": {
        "id": "bpAY12msopVX"
      }
    }
  ]
}